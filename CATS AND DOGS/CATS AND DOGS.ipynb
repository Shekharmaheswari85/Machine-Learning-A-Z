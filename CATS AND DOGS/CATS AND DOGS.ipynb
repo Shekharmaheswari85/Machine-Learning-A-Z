{
 "cells": [
  {
   "cell_type": "markdown",
   "metadata": {},
   "source": [
    "## Cats vs Dogs\n",
    "\n",
    "### Loading our images\n",
    "- Images are labelled catxxx.jpg and dogxxx.jpg"
   ]
  },
  {
   "cell_type": "code",
   "execution_count": 1,
   "metadata": {},
   "outputs": [
    {
     "name": "stdout",
     "output_type": "stream",
     "text": [
      "3002 images loaded\n"
     ]
    }
   ],
   "source": [
    "from os import listdir\n",
    "from os.path import isfile,join\n",
    "\n",
    "mypath='datasets/catsvsdogs/images/'\n",
    "\n",
    "file_names = [f for f in listdir(mypath) if isfile(join(mypath,f))]\n",
    "\n",
    "print(str(len(file_names)) + ' images loaded')"
   ]
  },
  {
   "cell_type": "markdown",
   "metadata": {},
   "source": [
    "### Splitting our loaded images into a training and test/validation dataset\n",
    "- We also need to store their labels (i.e. y_train and y_test)\n",
    "- We re-size our images here to maintain a constant dimension of 150 x 150\n",
    "- We're going to use 1000 images of dogs and 1000 images of cats as our training data\n",
    "- For our test/validation dataset we're going to use 500 of each class\n",
    "- Dogs will be labels 1 and cats 0\n",
    "- We store our new images in the following directories\n",
    " - /datasets/catsvsdogs/train/dogs\n",
    " - /datasets/catsvsdogs/train/cats\n",
    " - /datasets/catsvsdogs/validation/dogs\n",
    " - /datasets/catsvsdogs/validation/cats"
   ]
  },
  {
   "cell_type": "code",
   "execution_count": 2,
   "metadata": {},
   "outputs": [
    {
     "name": "stdout",
     "output_type": "stream",
     "text": [
      "Training and Test Data Extraction Complete\n"
     ]
    }
   ],
   "source": [
    "import cv2\n",
    "import numpy as np\n",
    "import sys\n",
    "import os\n",
    "import shutil\n",
    "\n",
    "# Extract 1000 for our training data and 500 for our validation set\n",
    "# Takes about ~20 seconds to run\n",
    "dog_count = 0\n",
    "cat_count = 0\n",
    "training_size = 1000\n",
    "test_size = 500\n",
    "training_images = []\n",
    "training_labels = []\n",
    "test_images = []\n",
    "test_labels = []\n",
    "size = 150\n",
    "dog_dir_train = \"./datasets/catsvsdogs/train/dogs/\"\n",
    "cat_dir_train = \"./datasets/catsvsdogs/train/cats/\"\n",
    "dog_dir_val = \"./datasets/catsvsdogs/validation/dogs/\"\n",
    "cat_dir_val = \"./datasets/catsvsdogs/validation/cats/\"\n",
    "\n",
    "def make_dir(directory):\n",
    "        if os.path.exists(directory):\n",
    "            shutil.rmtree(directory)\n",
    "        os.makedirs(directory)\n",
    "\n",
    "make_dir(dog_dir_train)\n",
    "make_dir(cat_dir_train)\n",
    "make_dir(dog_dir_val)\n",
    "make_dir(cat_dir_val)\n",
    "\n",
    "def getZeros(number):\n",
    "    if(number > 10 and number < 100):\n",
    "        return \"0\"\n",
    "    if(number < 10):\n",
    "        return \"00\"\n",
    "    else:\n",
    "        return \"\"\n",
    "\n",
    "for i, file in enumerate(file_names):\n",
    "    \n",
    "    if file_names[i][0] == \"d\":\n",
    "        dog_count += 1\n",
    "        image = cv2.imread(mypath+file)\n",
    "        image = cv2.resize(image, (size, size), interpolation = cv2.INTER_AREA)\n",
    "        if dog_count <= training_size:\n",
    "            training_images.append(image)\n",
    "            training_labels.append(1)\n",
    "            zeros = getZeros(dog_count)\n",
    "            cv2.imwrite(dog_dir_train + \"dog\" + str(zeros) + str(dog_count) + \".jpg\", image)\n",
    "        if dog_count > training_size and dog_count <= training_size+test_size:\n",
    "            test_images.append(image)\n",
    "            test_labels.append(1)\n",
    "            zeros = getZeros(dog_count-1000)\n",
    "            cv2.imwrite(dog_dir_val + \"dog\" + str(zeros) + str(dog_count-1000) + \".jpg\", image)\n",
    "            \n",
    "    if file_names[i][0] == \"c\":\n",
    "        cat_count += 1\n",
    "        image = cv2.imread(mypath+file)\n",
    "        image = cv2.resize(image, (size, size), interpolation = cv2.INTER_AREA)\n",
    "        if cat_count <= training_size:\n",
    "            training_images.append(image)\n",
    "            training_labels.append(0)\n",
    "            zeros = getZeros(cat_count)\n",
    "            cv2.imwrite(cat_dir_train + \"cat\" + str(zeros) + str(cat_count) + \".jpg\", image)\n",
    "        if cat_count > training_size and cat_count <= training_size+test_size:\n",
    "            test_images.append(image)\n",
    "            test_labels.append(0)\n",
    "            zeros = getZeros(cat_count-1000)\n",
    "            cv2.imwrite(cat_dir_val + \"cat\" + str(zeros) + str(cat_count-1000) + \".jpg\", image)\n",
    "\n",
    "    if dog_count == training_size+test_size and cat_count == training_size+test_size:\n",
    "        break\n",
    "\n",
    "print(\"Training and Test Data Extraction Complete\")"
   ]
  },
  {
   "cell_type": "markdown",
   "metadata": {},
   "source": [
    "### Let's save our dataset's to NPZ files"
   ]
  },
  {
   "cell_type": "code",
   "execution_count": 3,
   "metadata": {},
   "outputs": [],
   "source": [
    "# Using numpy's savez function to store our loaded data as NPZ files\n",
    "np.savez('cats_vs_dogs_training_data.npz', np.array(training_images))\n",
    "np.savez('cats_vs_dogs_training_labels.npz', np.array(training_labels))\n",
    "np.savez('cats_vs_dogs_test_data.npz', np.array(test_images))\n",
    "np.savez('cats_vs_dogs_test_labels.npz', np.array(test_labels))"
   ]
  },
  {
   "cell_type": "code",
   "execution_count": 4,
   "metadata": {},
   "outputs": [],
   "source": [
    "# Loader Function\n",
    "import numpy as np\n",
    "\n",
    "def load_data_training_and_test(datasetname):\n",
    "    \n",
    "    npzfile = np.load(datasetname + \"_training_data.npz\")\n",
    "    train = npzfile['arr_0']\n",
    "    \n",
    "    npzfile = np.load(datasetname + \"_training_labels.npz\")\n",
    "    train_labels = npzfile['arr_0']\n",
    "    \n",
    "    npzfile = np.load(datasetname + \"_test_data.npz\")\n",
    "    test = npzfile['arr_0']\n",
    "    \n",
    "    npzfile = np.load(datasetname + \"_test_labels.npz\")\n",
    "    test_labels = npzfile['arr_0']\n",
    "\n",
    "    return (train, train_labels), (test, test_labels)"
   ]
  },
  {
   "cell_type": "code",
   "execution_count": 5,
   "metadata": {},
   "outputs": [
    {
     "name": "stdout",
     "output_type": "stream",
     "text": [
      "1 - Dog\n",
      "2 - Dog\n",
      "3 - Cat\n",
      "4 - Dog\n",
      "5 - Cat\n",
      "6 - Dog\n",
      "7 - Dog\n",
      "8 - Cat\n",
      "9 - Cat\n",
      "10 - Dog\n"
     ]
    }
   ],
   "source": [
    "for i in range(1,11):\n",
    "    random = np.random.randint(0, len(training_images))\n",
    "    cv2.imshow(\"image_\"+str(i), training_images[random])\n",
    "    if training_labels[random] == 0:\n",
    "        print(str(i) + \" - Cat\")\n",
    "    else:\n",
    "        print(str(i)+ \" - Dog\")\n",
    "    cv2.waitKey(0)\n",
    "    \n",
    "cv2.destroyAllWindows()"
   ]
  },
  {
   "cell_type": "markdown",
   "metadata": {},
   "source": [
    "### Let's get our data ready in the format expected by Keras\n",
    "- We also stick the previous naming convention "
   ]
  },
  {
   "cell_type": "code",
   "execution_count": 6,
   "metadata": {},
   "outputs": [
    {
     "name": "stdout",
     "output_type": "stream",
     "text": [
      "(2000, 150, 150, 3)\n",
      "(2000, 1)\n",
      "(1000, 150, 150, 3)\n",
      "(1000, 1)\n"
     ]
    }
   ],
   "source": [
    "(x_train, y_train), (x_test, y_test) = load_data_training_and_test(\"cats_vs_dogs\")\n",
    "\n",
    "# Reshaping our label data from (2000,) to (2000,1) and test data from (1000,) to (1000,1)\n",
    "y_train = y_train.reshape(y_train.shape[0], 1)\n",
    "y_test = y_test.reshape(y_test.shape[0], 1)\n",
    "\n",
    "# Change our image type to float32 data type\n",
    "x_train = x_train.astype('float32')\n",
    "x_test = x_test.astype('float32')\n",
    "\n",
    "# Normalize our data by changing the range from (0 to 255) to (0 to 1)\n",
    "x_train /= 255\n",
    "x_test /= 255\n",
    "\n",
    "print(x_train.shape)\n",
    "print(y_train.shape)\n",
    "print(x_test.shape)\n",
    "print(y_test.shape)"
   ]
  },
  {
   "cell_type": "markdown",
   "metadata": {},
   "source": [
    "### Let's create our model using a simple CNN that similar to what we used for CIFAR10\n",
    "- Except now we use a Sigmoid instead of Softmax\n",
    "- **Sigmoids are used when we're doing binary (i.e. two class) classification\n",
    "- Note the binary_crossentropy loss"
   ]
  },
  {
   "cell_type": "code",
   "execution_count": 7,
   "metadata": {},
   "outputs": [
    {
     "name": "stdout",
     "output_type": "stream",
     "text": [
      "Model: \"sequential\"\n",
      "_________________________________________________________________\n",
      "Layer (type)                 Output Shape              Param #   \n",
      "=================================================================\n",
      "conv2d (Conv2D)              (None, 148, 148, 32)      896       \n",
      "_________________________________________________________________\n",
      "activation (Activation)      (None, 148, 148, 32)      0         \n",
      "_________________________________________________________________\n",
      "max_pooling2d (MaxPooling2D) (None, 74, 74, 32)        0         \n",
      "_________________________________________________________________\n",
      "conv2d_1 (Conv2D)            (None, 72, 72, 32)        9248      \n",
      "_________________________________________________________________\n",
      "activation_1 (Activation)    (None, 72, 72, 32)        0         \n",
      "_________________________________________________________________\n",
      "max_pooling2d_1 (MaxPooling2 (None, 36, 36, 32)        0         \n",
      "_________________________________________________________________\n",
      "conv2d_2 (Conv2D)            (None, 34, 34, 64)        18496     \n",
      "_________________________________________________________________\n",
      "activation_2 (Activation)    (None, 34, 34, 64)        0         \n",
      "_________________________________________________________________\n",
      "max_pooling2d_2 (MaxPooling2 (None, 17, 17, 64)        0         \n",
      "_________________________________________________________________\n",
      "flatten (Flatten)            (None, 18496)             0         \n",
      "_________________________________________________________________\n",
      "dense (Dense)                (None, 64)                1183808   \n",
      "_________________________________________________________________\n",
      "activation_3 (Activation)    (None, 64)                0         \n",
      "_________________________________________________________________\n",
      "dropout (Dropout)            (None, 64)                0         \n",
      "_________________________________________________________________\n",
      "dense_1 (Dense)              (None, 1)                 65        \n",
      "_________________________________________________________________\n",
      "activation_4 (Activation)    (None, 1)                 0         \n",
      "=================================================================\n",
      "Total params: 1,212,513\n",
      "Trainable params: 1,212,513\n",
      "Non-trainable params: 0\n",
      "_________________________________________________________________\n",
      "None\n"
     ]
    }
   ],
   "source": [
    "from __future__ import print_function\n",
    "import keras\n",
    "from keras.preprocessing.image import ImageDataGenerator\n",
    "from keras.models import Sequential\n",
    "from keras.layers import Dense, Dropout, Activation, Flatten\n",
    "from keras.layers import Conv2D, MaxPooling2D\n",
    "import os\n",
    "\n",
    "batch_size = 16\n",
    "epochs = 25\n",
    "\n",
    "img_rows = x_train[0].shape[0]\n",
    "img_cols = x_train[1].shape[0]\n",
    "input_shape = (img_rows, img_cols, 3)\n",
    "\n",
    "model = Sequential()\n",
    "model.add(Conv2D(32, (3, 3), input_shape=input_shape))\n",
    "model.add(Activation('relu'))\n",
    "model.add(MaxPooling2D(pool_size=(2, 2)))\n",
    "\n",
    "model.add(Conv2D(32, (3, 3)))\n",
    "model.add(Activation('relu'))\n",
    "model.add(MaxPooling2D(pool_size=(2, 2)))\n",
    "\n",
    "model.add(Conv2D(64, (3, 3)))\n",
    "model.add(Activation('relu'))\n",
    "model.add(MaxPooling2D(pool_size=(2, 2)))\n",
    "\n",
    "model.add(Flatten())\n",
    "model.add(Dense(64))\n",
    "model.add(Activation('relu'))\n",
    "model.add(Dropout(0.5))\n",
    "model.add(Dense(1))\n",
    "model.add(Activation('sigmoid'))\n",
    "\n",
    "model.compile(loss='binary_crossentropy',\n",
    "              optimizer='rmsprop',\n",
    "              metrics=['accuracy'])\n",
    "\n",
    "print(model.summary())"
   ]
  },
  {
   "cell_type": "code",
   "execution_count": null,
   "metadata": {},
   "outputs": [
    {
     "name": "stdout",
     "output_type": "stream",
     "text": [
      "Epoch 1/25\n",
      "125/125 [==============================] - 79s 623ms/step - loss: 0.7244 - accuracy: 0.5448 - val_loss: 0.6784 - val_accuracy: 0.5580\n",
      "Epoch 2/25\n",
      "125/125 [==============================] - 78s 624ms/step - loss: 0.6687 - accuracy: 0.6135 - val_loss: 0.6551 - val_accuracy: 0.6040\n",
      "Epoch 3/25\n",
      "125/125 [==============================] - 78s 624ms/step - loss: 0.6098 - accuracy: 0.6817 - val_loss: 0.5907 - val_accuracy: 0.6960\n",
      "Epoch 4/25\n",
      "125/125 [==============================] - 78s 623ms/step - loss: 0.5478 - accuracy: 0.7258 - val_loss: 0.6156 - val_accuracy: 0.6970\n",
      "Epoch 5/25\n",
      "125/125 [==============================] - 79s 631ms/step - loss: 0.5032 - accuracy: 0.7437 - val_loss: 0.5669 - val_accuracy: 0.7130\n",
      "Epoch 6/25\n",
      "125/125 [==============================] - 76s 611ms/step - loss: 0.4599 - accuracy: 0.7986 - val_loss: 0.5943 - val_accuracy: 0.7160\n",
      "Epoch 7/25\n",
      "125/125 [==============================] - 74s 597ms/step - loss: 0.3952 - accuracy: 0.8225 - val_loss: 0.6088 - val_accuracy: 0.7230\n",
      "Epoch 8/25\n",
      "125/125 [==============================] - 74s 589ms/step - loss: 0.3628 - accuracy: 0.8526 - val_loss: 0.6159 - val_accuracy: 0.7250\n",
      "Epoch 9/25\n",
      "125/125 [==============================] - 73s 588ms/step - loss: 0.2774 - accuracy: 0.8817 - val_loss: 0.6675 - val_accuracy: 0.7270\n",
      "Epoch 10/25\n",
      "125/125 [==============================] - 77s 618ms/step - loss: 0.2473 - accuracy: 0.8947 - val_loss: 0.6823 - val_accuracy: 0.6940\n",
      "Epoch 11/25\n",
      "125/125 [==============================] - 82s 654ms/step - loss: 0.2139 - accuracy: 0.9072 - val_loss: 0.7891 - val_accuracy: 0.7180\n",
      "Epoch 12/25\n",
      "125/125 [==============================] - 118s 941ms/step - loss: 0.1928 - accuracy: 0.9247 - val_loss: 0.9622 - val_accuracy: 0.7200\n",
      "Epoch 13/25\n",
      "125/125 [==============================] - 121s 967ms/step - loss: 0.1661 - accuracy: 0.9356 - val_loss: 1.1670 - val_accuracy: 0.7080\n",
      "Epoch 14/25\n",
      "125/125 [==============================] - 121s 972ms/step - loss: 0.1211 - accuracy: 0.9540 - val_loss: 1.3300 - val_accuracy: 0.7110\n",
      "Epoch 15/25\n",
      "125/125 [==============================] - 79s 631ms/step - loss: 0.1297 - accuracy: 0.9528 - val_loss: 0.9677 - val_accuracy: 0.7360\n",
      "Epoch 16/25\n",
      "125/125 [==============================] - 79s 629ms/step - loss: 0.1190 - accuracy: 0.9609 - val_loss: 1.4930 - val_accuracy: 0.7130\n",
      "Epoch 17/25\n",
      " 39/125 [========>.....................] - ETA: 45s - loss: 0.0807 - accuracy: 0.9612"
     ]
    }
   ],
   "source": [
    "history = model.fit(x_train, y_train,\n",
    "          batch_size=batch_size,\n",
    "          epochs=epochs,\n",
    "          validation_data=(x_test, y_test),\n",
    "          shuffle=True)\n",
    "\n",
    "model.save(\"cats_vs_dogs_V1.h5\")\n",
    "\n",
    "# Evaluate the performance of our trained model\n",
    "scores = model.evaluate(x_test, y_test, verbose=1)\n",
    "print('Test loss:', scores[0])\n",
    "print('Test accuracy:', scores[1])"
   ]
  },
  {
   "cell_type": "markdown",
   "metadata": {},
   "source": [
    "### Testing our Classifier"
   ]
  },
  {
   "cell_type": "code",
   "execution_count": null,
   "metadata": {},
   "outputs": [],
   "source": [
    "import cv2\n",
    "import numpy as np\n",
    "from keras.models import load_model\n",
    "\n",
    "classifier = load_model('cats_vs_dogs_V1.h5')\n",
    "\n",
    "def draw_test(name, pred, input_im):\n",
    "    BLACK = [0,0,0]\n",
    "    if pred == \"[0]\":\n",
    "        pred = \"cat\"\n",
    "    if pred == \"[1]\":\n",
    "        pred = \"dog\"\n",
    "    expanded_image = cv2.copyMakeBorder(input_im, 0, 0, 0, imageL.shape[0] ,cv2.BORDER_CONSTANT,value=BLACK)\n",
    "    #expanded_image = cv2.cvtColor(expanded_image, cv2.COLOR_GRAY2BGR)\n",
    "    cv2.putText(expanded_image, str(pred), (252, 70) , cv2.FONT_HERSHEY_COMPLEX_SMALL,4, (0,255,0), 2)\n",
    "    cv2.imshow(name, expanded_image)\n",
    "\n",
    "\n",
    "for i in range(0,10):\n",
    "    rand = np.random.randint(0,len(x_test))\n",
    "    input_im = x_test[rand]\n",
    "\n",
    "    imageL = cv2.resize(input_im, None, fx=2, fy=2, interpolation = cv2.INTER_CUBIC)\n",
    "    cv2.imshow(\"Test Image\", imageL)\n",
    "\n",
    "    input_im = input_im.reshape(1,150,150,3) \n",
    "    \n",
    "    ## Get Prediction\n",
    "    res = str(classifier.predict_classes(input_im, 1, verbose = 0)[0])\n",
    "\n",
    "    draw_test(\"Prediction\", res, imageL) \n",
    "    cv2.waitKey(0)\n",
    "\n",
    "cv2.destroyAllWindows()"
   ]
  },
  {
   "cell_type": "markdown",
   "metadata": {},
   "source": [
    "### Analysis\n",
    "- Our results aren't bad, but they could be better"
   ]
  }
 ],
 "metadata": {
  "kernelspec": {
   "display_name": "Python 3",
   "language": "python",
   "name": "python3"
  },
  "language_info": {
   "codemirror_mode": {
    "name": "ipython",
    "version": 3
   },
   "file_extension": ".py",
   "mimetype": "text/x-python",
   "name": "python",
   "nbconvert_exporter": "python",
   "pygments_lexer": "ipython3",
   "version": "3.7.0"
  }
 },
 "nbformat": 4,
 "nbformat_minor": 4
}
